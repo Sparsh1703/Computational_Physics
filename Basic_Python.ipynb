{
 "cells": [
  {
   "cell_type": "code",
   "execution_count": 1,
   "id": "0771a4d0",
   "metadata": {},
   "outputs": [],
   "source": [
    "import numpy as np"
   ]
  },
  {
   "cell_type": "markdown",
   "id": "0c9af271",
   "metadata": {},
   "source": [
    "# Basic Mathematics"
   ]
  },
  {
   "cell_type": "code",
   "execution_count": 2,
   "id": "f176ae2b",
   "metadata": {},
   "outputs": [
    {
     "name": "stdout",
     "output_type": "stream",
     "text": [
      "7\n",
      "3\n",
      "10\n",
      "2.5\n",
      "2\n",
      "25\n",
      "1\n",
      "2.23606797749979\n",
      "2.23606797749979\n"
     ]
    }
   ],
   "source": [
    "print(5+2) # Addition\n",
    "print(5-2) # Substraction\n",
    "print(5*2) # Multiplication\n",
    "print(5/2) # Division\n",
    "print(5//2) # Integral Division\n",
    "print(5**2) # Exponential\n",
    "print(5%2) # Remainder\n",
    "print(5**0.5) # squareroot\n",
    "print(np.sqrt(5))"
   ]
  },
  {
   "cell_type": "code",
   "execution_count": 3,
   "id": "bad3f764",
   "metadata": {},
   "outputs": [
    {
     "data": {
      "text/plain": [
       "3.141592653589793"
      ]
     },
     "execution_count": 3,
     "metadata": {},
     "output_type": "execute_result"
    }
   ],
   "source": [
    "np.pi"
   ]
  },
  {
   "cell_type": "code",
   "execution_count": 4,
   "id": "52eb3152",
   "metadata": {},
   "outputs": [
    {
     "data": {
      "text/plain": [
       "2.718281828459045"
      ]
     },
     "execution_count": 4,
     "metadata": {},
     "output_type": "execute_result"
    }
   ],
   "source": [
    "np.e"
   ]
  },
  {
   "cell_type": "code",
   "execution_count": 5,
   "id": "3aaad298",
   "metadata": {},
   "outputs": [
    {
     "name": "stdout",
     "output_type": "stream",
     "text": [
      "17.796688999999997\n"
     ]
    }
   ],
   "source": [
    "e = 1.3333\n",
    "p = 2.67\n",
    "print(2*e + 7*p - e*p)"
   ]
  },
  {
   "cell_type": "markdown",
   "id": "8e1bd53f",
   "metadata": {},
   "source": [
    "# Working with different data types"
   ]
  },
  {
   "cell_type": "code",
   "execution_count": 6,
   "id": "1d9e0d20",
   "metadata": {},
   "outputs": [
    {
     "data": {
      "text/plain": [
       "int"
      ]
     },
     "execution_count": 6,
     "metadata": {},
     "output_type": "execute_result"
    }
   ],
   "source": [
    "type(5)"
   ]
  },
  {
   "cell_type": "code",
   "execution_count": 7,
   "id": "972c3d76",
   "metadata": {},
   "outputs": [
    {
     "data": {
      "text/plain": [
       "float"
      ]
     },
     "execution_count": 7,
     "metadata": {},
     "output_type": "execute_result"
    }
   ],
   "source": [
    "type(5.00)"
   ]
  },
  {
   "cell_type": "markdown",
   "id": "e3be9453",
   "metadata": {},
   "source": [
    "There is no need to define data type. Python does it automatically. Although it is possible to transform datatypes."
   ]
  },
  {
   "cell_type": "code",
   "execution_count": 8,
   "id": "d70a2657",
   "metadata": {},
   "outputs": [
    {
     "data": {
      "text/plain": [
       "5.0"
      ]
     },
     "execution_count": 8,
     "metadata": {},
     "output_type": "execute_result"
    }
   ],
   "source": [
    "float(5)"
   ]
  },
  {
   "cell_type": "code",
   "execution_count": 9,
   "id": "22ae488e",
   "metadata": {},
   "outputs": [
    {
     "data": {
      "text/plain": [
       "5"
      ]
     },
     "execution_count": 9,
     "metadata": {},
     "output_type": "execute_result"
    }
   ],
   "source": [
    "int(5.0)"
   ]
  },
  {
   "cell_type": "code",
   "execution_count": 10,
   "id": "5ed604b0",
   "metadata": {},
   "outputs": [
    {
     "data": {
      "text/plain": [
       "6"
      ]
     },
     "execution_count": 10,
     "metadata": {},
     "output_type": "execute_result"
    }
   ],
   "source": [
    "int(6.9)"
   ]
  },
  {
   "cell_type": "code",
   "execution_count": 11,
   "id": "f4672252",
   "metadata": {},
   "outputs": [
    {
     "name": "stdout",
     "output_type": "stream",
     "text": [
      "7\n",
      "<class 'int'>\n"
     ]
    }
   ],
   "source": [
    "print(round(6.9))\n",
    "print(type(round(6.9)))"
   ]
  },
  {
   "cell_type": "markdown",
   "id": "e3241ee4",
   "metadata": {},
   "source": [
    "## Complex Numbers"
   ]
  },
  {
   "cell_type": "code",
   "execution_count": 12,
   "id": "50fb9099",
   "metadata": {},
   "outputs": [
    {
     "data": {
      "text/plain": [
       "(5+0j)"
      ]
     },
     "execution_count": 12,
     "metadata": {},
     "output_type": "execute_result"
    }
   ],
   "source": [
    "complex(5)"
   ]
  },
  {
   "cell_type": "code",
   "execution_count": 13,
   "id": "74740f26",
   "metadata": {},
   "outputs": [
    {
     "data": {
      "text/plain": [
       "(5+0j)"
      ]
     },
     "execution_count": 13,
     "metadata": {},
     "output_type": "execute_result"
    }
   ],
   "source": [
    "complex(5.0)"
   ]
  },
  {
   "cell_type": "code",
   "execution_count": 14,
   "id": "9df2c450",
   "metadata": {},
   "outputs": [
    {
     "data": {
      "text/plain": [
       "1j"
      ]
     },
     "execution_count": 14,
     "metadata": {},
     "output_type": "execute_result"
    }
   ],
   "source": [
    "1j"
   ]
  },
  {
   "cell_type": "code",
   "execution_count": 16,
   "id": "478c7ddd",
   "metadata": {},
   "outputs": [
    {
     "data": {
      "text/plain": [
       "(58+0j)"
      ]
     },
     "execution_count": 16,
     "metadata": {},
     "output_type": "execute_result"
    }
   ],
   "source": [
    "(3+7j)*(3-7j)"
   ]
  },
  {
   "cell_type": "code",
   "execution_count": 17,
   "id": "d96f9394",
   "metadata": {},
   "outputs": [
    {
     "name": "stderr",
     "output_type": "stream",
     "text": [
      "C:\\Users\\gupt1\\AppData\\Local\\Temp/ipykernel_25716/3438155168.py:1: RuntimeWarning: invalid value encountered in sqrt\n",
      "  np.sqrt(-1)\n"
     ]
    },
    {
     "data": {
      "text/plain": [
       "nan"
      ]
     },
     "execution_count": 17,
     "metadata": {},
     "output_type": "execute_result"
    }
   ],
   "source": [
    "np.sqrt(-1)"
   ]
  },
  {
   "cell_type": "code",
   "execution_count": 18,
   "id": "6ed499ef",
   "metadata": {},
   "outputs": [
    {
     "data": {
      "text/plain": [
       "1j"
      ]
     },
     "execution_count": 18,
     "metadata": {},
     "output_type": "execute_result"
    }
   ],
   "source": [
    "np.sqrt(complex(-1))"
   ]
  },
  {
   "cell_type": "markdown",
   "id": "4686be22",
   "metadata": {},
   "source": [
    "# Strings"
   ]
  },
  {
   "cell_type": "code",
   "execution_count": 19,
   "id": "34388af6",
   "metadata": {},
   "outputs": [],
   "source": [
    "string = 'You are my enemy'"
   ]
  },
  {
   "cell_type": "code",
   "execution_count": 20,
   "id": "8f0ab8b2",
   "metadata": {},
   "outputs": [
    {
     "data": {
      "text/plain": [
       "16"
      ]
     },
     "execution_count": 20,
     "metadata": {},
     "output_type": "execute_result"
    }
   ],
   "source": [
    "len(string)"
   ]
  },
  {
   "cell_type": "markdown",
   "id": "8d7bf2ca",
   "metadata": {},
   "source": [
    "# Lists and Arrays"
   ]
  },
  {
   "cell_type": "code",
   "execution_count": 21,
   "id": "68d70927",
   "metadata": {},
   "outputs": [],
   "source": [
    "l = [1,4,9,16,25,36,49,64,81,101]"
   ]
  },
  {
   "cell_type": "code",
   "execution_count": 22,
   "id": "50600f97",
   "metadata": {},
   "outputs": [
    {
     "data": {
      "text/plain": [
       "4"
      ]
     },
     "execution_count": 22,
     "metadata": {},
     "output_type": "execute_result"
    }
   ],
   "source": [
    "l[1] # index starts from 0"
   ]
  },
  {
   "cell_type": "code",
   "execution_count": 23,
   "id": "f0c738c9",
   "metadata": {},
   "outputs": [
    {
     "data": {
      "text/plain": [
       "[4, 9, 16, 25]"
      ]
     },
     "execution_count": 23,
     "metadata": {},
     "output_type": "execute_result"
    }
   ],
   "source": [
    "l[1:5]"
   ]
  },
  {
   "cell_type": "code",
   "execution_count": 24,
   "id": "b46eed61",
   "metadata": {},
   "outputs": [
    {
     "data": {
      "text/plain": [
       "[4, 16, 36, 64]"
      ]
     },
     "execution_count": 24,
     "metadata": {},
     "output_type": "execute_result"
    }
   ],
   "source": [
    "l[1:9:2]"
   ]
  },
  {
   "cell_type": "code",
   "execution_count": 25,
   "id": "a2f4a989",
   "metadata": {},
   "outputs": [],
   "source": [
    "l.append(109)"
   ]
  },
  {
   "cell_type": "code",
   "execution_count": 26,
   "id": "82a9e690",
   "metadata": {},
   "outputs": [
    {
     "data": {
      "text/plain": [
       "[1, 4, 9, 16, 25, 36, 49, 64, 81, 101, 109]"
      ]
     },
     "execution_count": 26,
     "metadata": {},
     "output_type": "execute_result"
    }
   ],
   "source": [
    "l"
   ]
  },
  {
   "cell_type": "code",
   "execution_count": 27,
   "id": "ba77d315",
   "metadata": {},
   "outputs": [],
   "source": [
    "l.remove(101)"
   ]
  },
  {
   "cell_type": "code",
   "execution_count": 28,
   "id": "abfef2aa",
   "metadata": {},
   "outputs": [
    {
     "data": {
      "text/plain": [
       "[1, 4, 9, 16, 25, 36, 49, 64, 81, 109]"
      ]
     },
     "execution_count": 28,
     "metadata": {},
     "output_type": "execute_result"
    }
   ],
   "source": [
    "l"
   ]
  },
  {
   "cell_type": "code",
   "execution_count": 29,
   "id": "6ebb660a",
   "metadata": {},
   "outputs": [],
   "source": [
    "l.sort()"
   ]
  },
  {
   "cell_type": "code",
   "execution_count": 31,
   "id": "1ec055ae",
   "metadata": {},
   "outputs": [],
   "source": [
    "l[0]= 22"
   ]
  },
  {
   "cell_type": "code",
   "execution_count": 32,
   "id": "88fc45f6",
   "metadata": {},
   "outputs": [
    {
     "data": {
      "text/plain": [
       "[22, 4, 9, 16, 25, 36, 49, 64, 81, 109]"
      ]
     },
     "execution_count": 32,
     "metadata": {},
     "output_type": "execute_result"
    }
   ],
   "source": [
    "l"
   ]
  },
  {
   "cell_type": "code",
   "execution_count": 33,
   "id": "05888e09",
   "metadata": {},
   "outputs": [],
   "source": [
    "l2 = [[1,2,3],[4,5,6],[7,8,9]]"
   ]
  },
  {
   "cell_type": "code",
   "execution_count": 34,
   "id": "a88d71b0",
   "metadata": {},
   "outputs": [
    {
     "data": {
      "text/plain": [
       "5"
      ]
     },
     "execution_count": 34,
     "metadata": {},
     "output_type": "execute_result"
    }
   ],
   "source": [
    "l2[1][1]"
   ]
  },
  {
   "cell_type": "code",
   "execution_count": 36,
   "id": "a7313741",
   "metadata": {},
   "outputs": [
    {
     "data": {
      "text/plain": [
       "[22, 4, 9, 16, 25, 36, 49, 64, 81, 109, 22, 4, 9, 16, 25, 36, 49, 64, 81, 109]"
      ]
     },
     "execution_count": 36,
     "metadata": {},
     "output_type": "execute_result"
    }
   ],
   "source": [
    "l*2 # Basis maths operations cannot be performed with lists."
   ]
  },
  {
   "cell_type": "code",
   "execution_count": 38,
   "id": "ec336a6c",
   "metadata": {},
   "outputs": [],
   "source": [
    "array1 = np.array([1,4,9,16,25,36,49,64,81,101])"
   ]
  },
  {
   "cell_type": "code",
   "execution_count": 39,
   "id": "24ace69d",
   "metadata": {},
   "outputs": [],
   "source": [
    "array2 = np.array([[1,2,3],\n",
    "                   [4,5,6],\n",
    "                   [7,8,9]])"
   ]
  },
  {
   "cell_type": "code",
   "execution_count": 40,
   "id": "a01420ea",
   "metadata": {},
   "outputs": [],
   "source": [
    "array3 = np.array([[4,7,2],[9,5,7]])"
   ]
  },
  {
   "cell_type": "code",
   "execution_count": 41,
   "id": "531a510b",
   "metadata": {},
   "outputs": [
    {
     "data": {
      "text/plain": [
       "array([[4, 7, 2],\n",
       "       [9, 5, 7]])"
      ]
     },
     "execution_count": 41,
     "metadata": {},
     "output_type": "execute_result"
    }
   ],
   "source": [
    "array3"
   ]
  },
  {
   "cell_type": "code",
   "execution_count": 42,
   "id": "6b41b984",
   "metadata": {},
   "outputs": [
    {
     "data": {
      "text/plain": [
       "array([[1, 2, 3],\n",
       "       [4, 5, 6],\n",
       "       [7, 8, 9]])"
      ]
     },
     "execution_count": 42,
     "metadata": {},
     "output_type": "execute_result"
    }
   ],
   "source": [
    "array2"
   ]
  },
  {
   "cell_type": "code",
   "execution_count": 43,
   "id": "745003de",
   "metadata": {},
   "outputs": [
    {
     "name": "stdout",
     "output_type": "stream",
     "text": [
      "9\n",
      "[1 4]\n"
     ]
    }
   ],
   "source": [
    "print(array1[2])\n",
    "print(array1[0:2])"
   ]
  },
  {
   "cell_type": "code",
   "execution_count": 44,
   "id": "b7c952b7",
   "metadata": {},
   "outputs": [
    {
     "data": {
      "text/plain": [
       "8"
      ]
     },
     "execution_count": 44,
     "metadata": {},
     "output_type": "execute_result"
    }
   ],
   "source": [
    "array2[2][1]"
   ]
  },
  {
   "cell_type": "code",
   "execution_count": 45,
   "id": "5ff67ef5",
   "metadata": {},
   "outputs": [
    {
     "data": {
      "text/plain": [
       "array([  1,   4,   9,  16,  25,  36,  49,  64,  81, 101, 200])"
      ]
     },
     "execution_count": 45,
     "metadata": {},
     "output_type": "execute_result"
    }
   ],
   "source": [
    "np.append(array1,200)"
   ]
  },
  {
   "cell_type": "code",
   "execution_count": 46,
   "id": "62feb585",
   "metadata": {},
   "outputs": [
    {
     "data": {
      "text/plain": [
       "array([  1,   4,   9,  16,  25,  36,  49,  64,  81, 101])"
      ]
     },
     "execution_count": 46,
     "metadata": {},
     "output_type": "execute_result"
    }
   ],
   "source": [
    "array1 #array1 will not be updated"
   ]
  },
  {
   "cell_type": "code",
   "execution_count": 48,
   "id": "b20f0ce3",
   "metadata": {},
   "outputs": [],
   "source": [
    "array1 = np.append(array1,np.array([2,4,6,8,10]))"
   ]
  },
  {
   "cell_type": "code",
   "execution_count": 49,
   "id": "5a6d7838",
   "metadata": {},
   "outputs": [
    {
     "data": {
      "text/plain": [
       "array([  1,   4,   9,  16,  25,  36,  49,  64,  81, 101,   2,   4,   6,\n",
       "         8,  10])"
      ]
     },
     "execution_count": 49,
     "metadata": {},
     "output_type": "execute_result"
    }
   ],
   "source": [
    "array1 # Now array1 will be updated"
   ]
  },
  {
   "cell_type": "code",
   "execution_count": 50,
   "id": "bfe4dfa5",
   "metadata": {},
   "outputs": [
    {
     "data": {
      "text/plain": [
       "array([4, 7, 2, 9, 5, 7, 4, 5, 1])"
      ]
     },
     "execution_count": 50,
     "metadata": {},
     "output_type": "execute_result"
    }
   ],
   "source": [
    "np.append(array3,np.array([4,5,1]))"
   ]
  },
  {
   "cell_type": "code",
   "execution_count": 52,
   "id": "61f69896",
   "metadata": {},
   "outputs": [
    {
     "data": {
      "text/plain": [
       "array([[4, 7, 2],\n",
       "       [9, 5, 7],\n",
       "       [4, 5, 1]])"
      ]
     },
     "execution_count": 52,
     "metadata": {},
     "output_type": "execute_result"
    }
   ],
   "source": [
    "np.append(array3, np.array([[4,5,1]]), axis=0)"
   ]
  },
  {
   "cell_type": "code",
   "execution_count": 53,
   "id": "86792d4d",
   "metadata": {},
   "outputs": [
    {
     "data": {
      "text/plain": [
       "array([[4, 7, 2, 4],\n",
       "       [9, 5, 7, 5]])"
      ]
     },
     "execution_count": 53,
     "metadata": {},
     "output_type": "execute_result"
    }
   ],
   "source": [
    "np.append(array3, np.array([[4],[5]]), axis=1)"
   ]
  },
  {
   "cell_type": "code",
   "execution_count": 54,
   "id": "b17ed5db",
   "metadata": {},
   "outputs": [
    {
     "data": {
      "text/plain": [
       "array([    1,    16,    81,   256,   625,  1296,  2401,  4096,  6561,\n",
       "       10201,     4,    16,    36,    64,   100], dtype=int32)"
      ]
     },
     "execution_count": 54,
     "metadata": {},
     "output_type": "execute_result"
    }
   ],
   "source": [
    "array1**2  # Every element of the array1 will be squared"
   ]
  },
  {
   "cell_type": "code",
   "execution_count": 55,
   "id": "db96d7b7",
   "metadata": {},
   "outputs": [
    {
     "data": {
      "text/plain": [
       "array([[ 7.71828183, 12.71828183, 17.71828183],\n",
       "       [22.71828183, 27.71828183, 32.71828183],\n",
       "       [37.71828183, 42.71828183, 47.71828183]])"
      ]
     },
     "execution_count": 55,
     "metadata": {},
     "output_type": "execute_result"
    }
   ],
   "source": [
    "array2*5 + np.e"
   ]
  },
  {
   "cell_type": "markdown",
   "id": "c429c364",
   "metadata": {},
   "source": [
    "# Vectors and Matrices"
   ]
  },
  {
   "cell_type": "markdown",
   "id": "60d1cfa0",
   "metadata": {},
   "source": [
    "## Vectors"
   ]
  },
  {
   "cell_type": "code",
   "execution_count": 56,
   "id": "df4a3d3a",
   "metadata": {},
   "outputs": [],
   "source": [
    "vec1 = np.array([1,1,1])\n",
    "vec2 = np.array([2,3,4])"
   ]
  },
  {
   "cell_type": "code",
   "execution_count": 57,
   "id": "f4b68768",
   "metadata": {},
   "outputs": [
    {
     "data": {
      "text/plain": [
       "9"
      ]
     },
     "execution_count": 57,
     "metadata": {},
     "output_type": "execute_result"
    }
   ],
   "source": [
    "np.dot(vec1,vec2) # Dot Product"
   ]
  },
  {
   "cell_type": "code",
   "execution_count": 58,
   "id": "e3e43ce0",
   "metadata": {},
   "outputs": [
    {
     "data": {
      "text/plain": [
       "array([ 1, -2,  1])"
      ]
     },
     "execution_count": 58,
     "metadata": {},
     "output_type": "execute_result"
    }
   ],
   "source": [
    "np.cross(vec1,vec2) # Cross Product"
   ]
  },
  {
   "cell_type": "code",
   "execution_count": 59,
   "id": "a90c1272",
   "metadata": {},
   "outputs": [
    {
     "data": {
      "text/plain": [
       "array([-1,  2, -1])"
      ]
     },
     "execution_count": 59,
     "metadata": {},
     "output_type": "execute_result"
    }
   ],
   "source": [
    "np.cross(vec2,vec1)"
   ]
  },
  {
   "cell_type": "code",
   "execution_count": 60,
   "id": "95cf32a6",
   "metadata": {},
   "outputs": [
    {
     "data": {
      "text/plain": [
       "5.385164807134504"
      ]
     },
     "execution_count": 60,
     "metadata": {},
     "output_type": "execute_result"
    }
   ],
   "source": [
    "np.linalg.norm(vec2) # Norm"
   ]
  },
  {
   "cell_type": "code",
   "execution_count": 61,
   "id": "41a0ea9f",
   "metadata": {},
   "outputs": [
    {
     "data": {
      "text/plain": [
       "array([ 4,  9, 16], dtype=int32)"
      ]
     },
     "execution_count": 61,
     "metadata": {},
     "output_type": "execute_result"
    }
   ],
   "source": [
    "vec2**2"
   ]
  },
  {
   "cell_type": "code",
   "execution_count": 63,
   "id": "d7938656",
   "metadata": {},
   "outputs": [
    {
     "data": {
      "text/plain": [
       "5.385164807134504"
      ]
     },
     "execution_count": 63,
     "metadata": {},
     "output_type": "execute_result"
    }
   ],
   "source": [
    "np.sqrt(np.sum(vec2**2)) # Same as Norm"
   ]
  },
  {
   "cell_type": "markdown",
   "id": "2a142070",
   "metadata": {},
   "source": [
    "## Matrices (Multi-dimensional Array)"
   ]
  },
  {
   "cell_type": "code",
   "execution_count": 64,
   "id": "1a5e2b5f",
   "metadata": {},
   "outputs": [],
   "source": [
    "mat1 = np.array([[1,-2,3],[-4,5,-6],[7,-8,9]])\n",
    "mat2 = np.array([[1,1,1],[0,2,2],[0,0,3]])"
   ]
  },
  {
   "cell_type": "code",
   "execution_count": 65,
   "id": "5bc23d30",
   "metadata": {},
   "outputs": [
    {
     "data": {
      "text/plain": [
       "array([[ 1, -2,  3],\n",
       "       [-4,  5, -6],\n",
       "       [ 7, -8,  9]])"
      ]
     },
     "execution_count": 65,
     "metadata": {},
     "output_type": "execute_result"
    }
   ],
   "source": [
    "mat1"
   ]
  },
  {
   "cell_type": "code",
   "execution_count": 67,
   "id": "80190675",
   "metadata": {},
   "outputs": [
    {
     "data": {
      "text/plain": [
       "array([[1, 1, 1],\n",
       "       [0, 2, 2],\n",
       "       [0, 0, 3]])"
      ]
     },
     "execution_count": 67,
     "metadata": {},
     "output_type": "execute_result"
    }
   ],
   "source": [
    "mat2"
   ]
  },
  {
   "cell_type": "code",
   "execution_count": 66,
   "id": "7d8158de",
   "metadata": {},
   "outputs": [
    {
     "data": {
      "text/plain": [
       "array([[  1,  -2,   3],\n",
       "       [  0,  10, -12],\n",
       "       [  0,   0,  27]])"
      ]
     },
     "execution_count": 66,
     "metadata": {},
     "output_type": "execute_result"
    }
   ],
   "source": [
    "mat1*mat2 # Multiplication will be componentwise and it is not like how we do matrix multiplication."
   ]
  },
  {
   "cell_type": "code",
   "execution_count": 68,
   "id": "7882d9e5",
   "metadata": {},
   "outputs": [
    {
     "data": {
      "text/plain": [
       "array([[  1,  -3,   6],\n",
       "       [ -4,   6, -12],\n",
       "       [  7,  -9,  18]])"
      ]
     },
     "execution_count": 68,
     "metadata": {},
     "output_type": "execute_result"
    }
   ],
   "source": [
    "np.matmul(mat1,mat2)"
   ]
  },
  {
   "cell_type": "code",
   "execution_count": 69,
   "id": "82d450f2",
   "metadata": {},
   "outputs": [
    {
     "data": {
      "text/plain": [
       "array([[  4,  -5,   6],\n",
       "       [  6,  -6,   6],\n",
       "       [ 21, -24,  27]])"
      ]
     },
     "execution_count": 69,
     "metadata": {},
     "output_type": "execute_result"
    }
   ],
   "source": [
    "np.matmul(mat2,mat1)"
   ]
  },
  {
   "cell_type": "code",
   "execution_count": 71,
   "id": "f08d45d7",
   "metadata": {},
   "outputs": [
    {
     "data": {
      "text/plain": [
       "6.0"
      ]
     },
     "execution_count": 71,
     "metadata": {},
     "output_type": "execute_result"
    }
   ],
   "source": [
    "np.linalg.det(mat2) # Determinant"
   ]
  },
  {
   "cell_type": "code",
   "execution_count": 72,
   "id": "85e0b334",
   "metadata": {},
   "outputs": [
    {
     "data": {
      "text/plain": [
       "array([[ 1.        , -0.5       ,  0.        ],\n",
       "       [ 0.        ,  0.5       , -0.33333333],\n",
       "       [ 0.        ,  0.        ,  0.33333333]])"
      ]
     },
     "execution_count": 72,
     "metadata": {},
     "output_type": "execute_result"
    }
   ],
   "source": [
    "np.linalg.inv(mat2) # Inverse of a matrix"
   ]
  },
  {
   "cell_type": "code",
   "execution_count": 74,
   "id": "43af0b47",
   "metadata": {},
   "outputs": [],
   "source": [
    "#np.linalg.inv(mat1) \n",
    "# Shows error because inverse does not exist since det(mat1) is 0."
   ]
  },
  {
   "cell_type": "code",
   "execution_count": 75,
   "id": "0bf87a02",
   "metadata": {},
   "outputs": [
    {
     "data": {
      "text/plain": [
       "array([[1., 0., 0.],\n",
       "       [0., 1., 0.],\n",
       "       [0., 0., 1.]])"
      ]
     },
     "execution_count": 75,
     "metadata": {},
     "output_type": "execute_result"
    }
   ],
   "source": [
    "np.matmul(mat2,np.linalg.inv(mat2)) # Gives Identity Matrix"
   ]
  },
  {
   "cell_type": "markdown",
   "id": "663812ba",
   "metadata": {},
   "source": [
    "# Dictionaries"
   ]
  },
  {
   "cell_type": "code",
   "execution_count": 77,
   "id": "7efd21a3",
   "metadata": {},
   "outputs": [],
   "source": [
    "dict1 = {\n",
    "    'brand':'mahindra',\n",
    "    'model':'XUV500',\n",
    "    'year':2022\n",
    "}"
   ]
  },
  {
   "cell_type": "code",
   "execution_count": 79,
   "id": "bc20e5ce",
   "metadata": {},
   "outputs": [
    {
     "data": {
      "text/plain": [
       "'XUV500'"
      ]
     },
     "execution_count": 79,
     "metadata": {},
     "output_type": "execute_result"
    }
   ],
   "source": [
    "# dict1[1] This will not work\n",
    "dict1['model']"
   ]
  },
  {
   "cell_type": "code",
   "execution_count": 81,
   "id": "eac69e21",
   "metadata": {},
   "outputs": [
    {
     "data": {
      "text/plain": [
       "dict_keys(['brand', 'model', 'year'])"
      ]
     },
     "execution_count": 81,
     "metadata": {},
     "output_type": "execute_result"
    }
   ],
   "source": [
    "dict1.keys()"
   ]
  },
  {
   "cell_type": "code",
   "execution_count": 82,
   "id": "cef14e99",
   "metadata": {},
   "outputs": [
    {
     "data": {
      "text/plain": [
       "dict_values(['mahindra', 'XUV500', 2022])"
      ]
     },
     "execution_count": 82,
     "metadata": {},
     "output_type": "execute_result"
    }
   ],
   "source": [
    "dict1.values()"
   ]
  },
  {
   "cell_type": "code",
   "execution_count": 83,
   "id": "eae484f4",
   "metadata": {},
   "outputs": [],
   "source": [
    "dict1['year'] = 2021\n",
    "dict1['country']= 'India'"
   ]
  },
  {
   "cell_type": "code",
   "execution_count": 84,
   "id": "c7c51654",
   "metadata": {},
   "outputs": [
    {
     "data": {
      "text/plain": [
       "{'brand': 'mahindra', 'model': 'XUV500', 'year': 2021, 'country': 'India'}"
      ]
     },
     "execution_count": 84,
     "metadata": {},
     "output_type": "execute_result"
    }
   ],
   "source": [
    "dict1"
   ]
  },
  {
   "cell_type": "markdown",
   "id": "0e3e525b",
   "metadata": {},
   "source": [
    "# Loops and If Statements"
   ]
  },
  {
   "cell_type": "markdown",
   "id": "be9fdb2f",
   "metadata": {},
   "source": [
    "## While Loop"
   ]
  },
  {
   "cell_type": "code",
   "execution_count": 85,
   "id": "bc22b5f4",
   "metadata": {},
   "outputs": [
    {
     "name": "stdout",
     "output_type": "stream",
     "text": [
      "1\n",
      "4\n",
      "9\n",
      "16\n",
      "25\n",
      "36\n",
      "49\n",
      "64\n",
      "81\n",
      "100\n"
     ]
    }
   ],
   "source": [
    "i = 1\n",
    "while i<=10:\n",
    "    print(i**2)\n",
    "    i = i + 1"
   ]
  },
  {
   "cell_type": "markdown",
   "id": "96abf3b4",
   "metadata": {},
   "source": [
    "## While loop with if statement"
   ]
  },
  {
   "cell_type": "code",
   "execution_count": 88,
   "id": "47e79ce1",
   "metadata": {},
   "outputs": [
    {
     "name": "stdout",
     "output_type": "stream",
     "text": [
      "1 is odd.\n",
      "2 is even.\n",
      "3 is odd.\n",
      "4 is even.\n",
      "5 is odd.\n",
      "6 is even.\n",
      "7 is odd.\n",
      "8 is even.\n",
      "9 is odd.\n",
      "10 is even.\n",
      "11 is odd.\n",
      "12 is even.\n",
      "13 is odd.\n",
      "14 is even.\n",
      "15 is odd.\n",
      "16 is even.\n",
      "17 is odd.\n",
      "18 is even.\n",
      "19 is odd.\n",
      "20 is even.\n"
     ]
    }
   ],
   "source": [
    "i = 1\n",
    "\n",
    "while i<=20:\n",
    "    if i%2 == 0:\n",
    "        print(str(i) + ' is even.')\n",
    "    else:\n",
    "        print(str(i) + ' is odd.')\n",
    "    i = i+1"
   ]
  },
  {
   "cell_type": "markdown",
   "id": "365e9f66",
   "metadata": {},
   "source": [
    "## For loop"
   ]
  },
  {
   "cell_type": "code",
   "execution_count": 91,
   "id": "f051d3a4",
   "metadata": {},
   "outputs": [
    {
     "name": "stdout",
     "output_type": "stream",
     "text": [
      "0\n",
      "1\n",
      "4\n",
      "9\n",
      "16\n",
      "25\n",
      "36\n",
      "49\n",
      "64\n",
      "81\n"
     ]
    }
   ],
   "source": [
    "for i in range(10):  # range(1,11) or [1,2,3,.....,10]\n",
    "    print(i**2)"
   ]
  },
  {
   "cell_type": "code",
   "execution_count": 90,
   "id": "ce75f1b0",
   "metadata": {},
   "outputs": [
    {
     "name": "stdout",
     "output_type": "stream",
     "text": [
      "Y\n",
      "o\n",
      "u\n",
      " \n",
      "a\n",
      "r\n",
      "e\n",
      " \n",
      "m\n",
      "y\n",
      " \n",
      "e\n",
      "n\n",
      "e\n",
      "m\n",
      "y\n"
     ]
    }
   ],
   "source": [
    "for str in \"You are my enemy\":\n",
    "    print(str)"
   ]
  },
  {
   "cell_type": "code",
   "execution_count": 92,
   "id": "231c3756",
   "metadata": {},
   "outputs": [],
   "source": [
    "storelist = []\n",
    "for i in range(15):\n",
    "    storelist.append(i**2)"
   ]
  },
  {
   "cell_type": "code",
   "execution_count": 93,
   "id": "7c7a2c0d",
   "metadata": {},
   "outputs": [
    {
     "data": {
      "text/plain": [
       "[0, 1, 4, 9, 16, 25, 36, 49, 64, 81, 100, 121, 144, 169, 196]"
      ]
     },
     "execution_count": 93,
     "metadata": {},
     "output_type": "execute_result"
    }
   ],
   "source": [
    "storelist"
   ]
  },
  {
   "cell_type": "markdown",
   "id": "309dc083",
   "metadata": {},
   "source": [
    "# Working with data files"
   ]
  },
  {
   "cell_type": "markdown",
   "id": "6cbea97e",
   "metadata": {},
   "source": [
    "## Save"
   ]
  },
  {
   "cell_type": "code",
   "execution_count": 94,
   "id": "66608bae",
   "metadata": {},
   "outputs": [],
   "source": [
    "np.savetxt('storelist1.txt', storelist, fmt='%s')\n",
    "np.savetxt('storelist2.txt', storelist)"
   ]
  },
  {
   "cell_type": "markdown",
   "id": "69bb48b9",
   "metadata": {},
   "source": [
    "Save each line one after another"
   ]
  },
  {
   "cell_type": "code",
   "execution_count": 105,
   "id": "60e8a8b7",
   "metadata": {},
   "outputs": [
    {
     "name": "stdout",
     "output_type": "stream",
     "text": [
      "'str' object is not callable\n",
      "'str' object is not callable\n",
      "'str' object is not callable\n",
      "'str' object is not callable\n",
      "'str' object is not callable\n",
      "'str' object is not callable\n",
      "'str' object is not callable\n",
      "'str' object is not callable\n",
      "'str' object is not callable\n"
     ]
    }
   ],
   "source": [
    "file = open('storelist3.txt','w')\n",
    "for i in range(1,10):\n",
    "    try:\n",
    "        \n",
    "        file.write(str(i**2))\n",
    "        file.write('\\n')\n",
    "    except Exception as e:\n",
    "        print(e)\n",
    "    \n",
    "file.close()"
   ]
  },
  {
   "cell_type": "code",
   "execution_count": 107,
   "id": "ef6512a7",
   "metadata": {},
   "outputs": [],
   "source": [
    "# with open('storelist4.dat','w') as file:\n",
    "#     for i in range(1,10):\n",
    "#         file.write(str(i**2))\n",
    "#         file.write('\\n')"
   ]
  },
  {
   "cell_type": "code",
   "execution_count": 108,
   "id": "4dbc1610",
   "metadata": {},
   "outputs": [],
   "source": [
    "loadlist = np.loadtxt('storelist1.txt') # To load the data"
   ]
  },
  {
   "cell_type": "code",
   "execution_count": 109,
   "id": "81819f42",
   "metadata": {},
   "outputs": [
    {
     "data": {
      "text/plain": [
       "array([  0.,   1.,   4.,   9.,  16.,  25.,  36.,  49.,  64.,  81., 100.,\n",
       "       121., 144., 169., 196.])"
      ]
     },
     "execution_count": 109,
     "metadata": {},
     "output_type": "execute_result"
    }
   ],
   "source": [
    "loadlist"
   ]
  },
  {
   "cell_type": "markdown",
   "id": "e0c09c24",
   "metadata": {},
   "source": [
    "# Functions"
   ]
  },
  {
   "cell_type": "code",
   "execution_count": 110,
   "id": "36275168",
   "metadata": {},
   "outputs": [
    {
     "data": {
      "text/plain": [
       "9"
      ]
     },
     "execution_count": 110,
     "metadata": {},
     "output_type": "execute_result"
    }
   ],
   "source": [
    "vec1 = np.array([1,1,1])\n",
    "vec2 = np.array([2,3,4])\n",
    "\n",
    "np.dot(vec1,vec2)"
   ]
  },
  {
   "cell_type": "code",
   "execution_count": 111,
   "id": "c870dbef",
   "metadata": {},
   "outputs": [],
   "source": [
    "# To create our own dot product function\n",
    "def dot(v1,v2):\n",
    "    c= v1[0]*v2[0] + v1[1]*v2[1] + v1[2]*v2[2] \n",
    "    return c\n",
    "d = dot(vec1,vec2)"
   ]
  },
  {
   "cell_type": "code",
   "execution_count": 112,
   "id": "6dfde1c2",
   "metadata": {},
   "outputs": [
    {
     "data": {
      "text/plain": [
       "9"
      ]
     },
     "execution_count": 112,
     "metadata": {},
     "output_type": "execute_result"
    }
   ],
   "source": [
    "d"
   ]
  },
  {
   "cell_type": "markdown",
   "id": "492d162e",
   "metadata": {},
   "source": [
    "# Plots"
   ]
  },
  {
   "cell_type": "code",
   "execution_count": 113,
   "id": "c6f1d9a2",
   "metadata": {},
   "outputs": [],
   "source": [
    "import matplotlib.pyplot as plt"
   ]
  },
  {
   "cell_type": "code",
   "execution_count": 115,
   "id": "2fb77a8a",
   "metadata": {},
   "outputs": [
    {
     "data": {
      "text/plain": [
       "<matplotlib.collections.PathCollection at 0x1c4dda90a30>"
      ]
     },
     "execution_count": 115,
     "metadata": {},
     "output_type": "execute_result"
    },
    {
     "data": {
      "image/png": "[encoded data removed]",
      "text/plain": [
       "<Figure size 432x288 with 1 Axes>"
      ]
     },
     "metadata": {
      "needs_background": "light"
     },
     "output_type": "display_data"
    }
   ],
   "source": [
    "x1 = 1\n",
    "x2 = 2\n",
    "x3 = 3\n",
    "x4 = 4\n",
    "x5 = 5\n",
    "\n",
    "y1 = 5\n",
    "y2 = 1\n",
    "y3 = -1\n",
    "y4 = 0\n",
    "y5 = 2\n",
    "\n",
    "plt.scatter([x1,x2,x3,x4,x5],[y1,y2,y3,y4,y5])"
   ]
  },
  {
   "cell_type": "code",
   "execution_count": 116,
   "id": "362fe68e",
   "metadata": {},
   "outputs": [],
   "source": [
    "coords = np.array([[1,1,1],[2,4,8],[3,9,27],[4,16,64],[5,25,125]])"
   ]
  },
  {
   "cell_type": "code",
   "execution_count": 117,
   "id": "aed948ee",
   "metadata": {},
   "outputs": [
    {
     "data": {
      "text/plain": [
       "array([[  1,   1,   1],\n",
       "       [  2,   4,   8],\n",
       "       [  3,   9,  27],\n",
       "       [  4,  16,  64],\n",
       "       [  5,  25, 125]])"
      ]
     },
     "execution_count": 117,
     "metadata": {},
     "output_type": "execute_result"
    }
   ],
   "source": [
    "coords"
   ]
  },
  {
   "cell_type": "code",
   "execution_count": 118,
   "id": "d1dea14b",
   "metadata": {},
   "outputs": [
    {
     "data": {
      "text/plain": [
       "array([[  1,   2,   3,   4,   5],\n",
       "       [  1,   4,   9,  16,  25],\n",
       "       [  1,   8,  27,  64, 125]])"
      ]
     },
     "execution_count": 118,
     "metadata": {},
     "output_type": "execute_result"
    }
   ],
   "source": [
    "coords.T"
   ]
  },
  {
   "cell_type": "code",
   "execution_count": 119,
   "id": "643f4441",
   "metadata": {},
   "outputs": [],
   "source": [
    "x1, y1, z1 = coords.T"
   ]
  },
  {
   "cell_type": "code",
   "execution_count": 120,
   "id": "38147378",
   "metadata": {},
   "outputs": [
    {
     "data": {
      "text/plain": [
       "array([1, 2, 3, 4, 5])"
      ]
     },
     "execution_count": 120,
     "metadata": {},
     "output_type": "execute_result"
    }
   ],
   "source": [
    "x1"
   ]
  },
  {
   "cell_type": "code",
   "execution_count": 121,
   "id": "30ad49c9",
   "metadata": {},
   "outputs": [
    {
     "data": {
      "text/plain": [
       "array([ 1,  4,  9, 16, 25])"
      ]
     },
     "execution_count": 121,
     "metadata": {},
     "output_type": "execute_result"
    }
   ],
   "source": [
    "y1"
   ]
  },
  {
   "cell_type": "code",
   "execution_count": 122,
   "id": "f204afeb",
   "metadata": {},
   "outputs": [
    {
     "data": {
      "text/plain": [
       "array([  1,   8,  27,  64, 125])"
      ]
     },
     "execution_count": 122,
     "metadata": {},
     "output_type": "execute_result"
    }
   ],
   "source": [
    "z1"
   ]
  },
  {
   "cell_type": "code",
   "execution_count": 125,
   "id": "591a566e",
   "metadata": {},
   "outputs": [
    {
     "data": {
      "text/plain": [
       "Text(0, 0.5, 'y,z')"
      ]
     },
     "execution_count": 125,
     "metadata": {},
     "output_type": "execute_result"
    },
    {
     "data": {
      "image/png": "[encoded data removed]",
      "text/plain": [
       "<Figure size 432x288 with 1 Axes>"
      ]
     },
     "metadata": {
      "needs_background": "light"
     },
     "output_type": "display_data"
    }
   ],
   "source": [
    "plt.scatter(x1,y1)\n",
    "plt.scatter(x1,z1)\n",
    "plt.xlabel('x')\n",
    "plt.ylabel('y,z')"
   ]
  },
  {
   "cell_type": "code",
   "execution_count": 127,
   "id": "8ee19c66",
   "metadata": {},
   "outputs": [],
   "source": [
    "x1 = np.linspace(0,4,101)\n",
    "y1 = 2*np.cos(3*x1) + 2"
   ]
  },
  {
   "cell_type": "code",
   "execution_count": 138,
   "id": "aeb82c3e",
   "metadata": {},
   "outputs": [
    {
     "data": {
      "image/png": "[encoded data removed]",
      "text/plain": [
       "<Figure size 432x288 with 1 Axes>"
      ]
     },
     "metadata": {
      "needs_background": "light"
     },
     "output_type": "display_data"
    }
   ],
   "source": [
    "plt.scatter(x1,y1)\n",
    "plt.plot(x1,y1, c='red')\n",
    "plt.xlim([0,8])\n",
    "\n",
    "x2 = np.linspace(4,8,101)\n",
    "y2 = 2*np.cos(3*x2) + 2\n",
    "plt.plot(x2,y2, c='orange')\n",
    "\n",
    "plt.savefig('testplot.png')"
   ]
  },
  {
   "cell_type": "markdown",
   "id": "35cae91d",
   "metadata": {},
   "source": [
    "# Contour Plot (or Density Plot)"
   ]
  },
  {
   "cell_type": "code",
   "execution_count": 139,
   "id": "f29ec456",
   "metadata": {},
   "outputs": [
    {
     "data": {
      "text/plain": [
       "array([0., 1., 2., 3., 4., 5.])"
      ]
     },
     "execution_count": 139,
     "metadata": {},
     "output_type": "execute_result"
    }
   ],
   "source": [
    "np.linspace(0,5,6)"
   ]
  },
  {
   "cell_type": "code",
   "execution_count": 140,
   "id": "0f0f6a9c",
   "metadata": {},
   "outputs": [
    {
     "data": {
      "text/plain": [
       "array([ 5.,  6.,  7.,  8.,  9., 10.])"
      ]
     },
     "execution_count": 140,
     "metadata": {},
     "output_type": "execute_result"
    }
   ],
   "source": [
    "np.linspace(5,10,6)"
   ]
  },
  {
   "cell_type": "code",
   "execution_count": 141,
   "id": "a286af17",
   "metadata": {},
   "outputs": [
    {
     "data": {
      "text/plain": [
       "[array([[0., 1., 2., 3., 4., 5.],\n",
       "        [0., 1., 2., 3., 4., 5.],\n",
       "        [0., 1., 2., 3., 4., 5.],\n",
       "        [0., 1., 2., 3., 4., 5.],\n",
       "        [0., 1., 2., 3., 4., 5.],\n",
       "        [0., 1., 2., 3., 4., 5.]]),\n",
       " array([[ 5.,  5.,  5.,  5.,  5.,  5.],\n",
       "        [ 6.,  6.,  6.,  6.,  6.,  6.],\n",
       "        [ 7.,  7.,  7.,  7.,  7.,  7.],\n",
       "        [ 8.,  8.,  8.,  8.,  8.,  8.],\n",
       "        [ 9.,  9.,  9.,  9.,  9.,  9.],\n",
       "        [10., 10., 10., 10., 10., 10.]])]"
      ]
     },
     "execution_count": 141,
     "metadata": {},
     "output_type": "execute_result"
    }
   ],
   "source": [
    "np.meshgrid(np.linspace(0,5,6),np.linspace(5,10,6))"
   ]
  },
  {
   "cell_type": "code",
   "execution_count": 142,
   "id": "0f85cadb",
   "metadata": {},
   "outputs": [
    {
     "data": {
      "text/plain": [
       "array([[[ 0.,  5.],\n",
       "        [ 0.,  6.],\n",
       "        [ 0.,  7.],\n",
       "        [ 0.,  8.],\n",
       "        [ 0.,  9.],\n",
       "        [ 0., 10.]],\n",
       "\n",
       "       [[ 1.,  5.],\n",
       "        [ 1.,  6.],\n",
       "        [ 1.,  7.],\n",
       "        [ 1.,  8.],\n",
       "        [ 1.,  9.],\n",
       "        [ 1., 10.]],\n",
       "\n",
       "       [[ 2.,  5.],\n",
       "        [ 2.,  6.],\n",
       "        [ 2.,  7.],\n",
       "        [ 2.,  8.],\n",
       "        [ 2.,  9.],\n",
       "        [ 2., 10.]],\n",
       "\n",
       "       [[ 3.,  5.],\n",
       "        [ 3.,  6.],\n",
       "        [ 3.,  7.],\n",
       "        [ 3.,  8.],\n",
       "        [ 3.,  9.],\n",
       "        [ 3., 10.]],\n",
       "\n",
       "       [[ 4.,  5.],\n",
       "        [ 4.,  6.],\n",
       "        [ 4.,  7.],\n",
       "        [ 4.,  8.],\n",
       "        [ 4.,  9.],\n",
       "        [ 4., 10.]],\n",
       "\n",
       "       [[ 5.,  5.],\n",
       "        [ 5.,  6.],\n",
       "        [ 5.,  7.],\n",
       "        [ 5.,  8.],\n",
       "        [ 5.,  9.],\n",
       "        [ 5., 10.]]])"
      ]
     },
     "execution_count": 142,
     "metadata": {},
     "output_type": "execute_result"
    }
   ],
   "source": [
    "np.transpose(np.meshgrid(np.linspace(0,5,6),np.linspace(5,10,6)))"
   ]
  },
  {
   "cell_type": "code",
   "execution_count": 147,
   "id": "61c9a5ef",
   "metadata": {},
   "outputs": [],
   "source": [
    "x2, y2 = np.meshgrid(np.linspace(-10,10,201), np.linspace(-10,10,201))"
   ]
  },
  {
   "cell_type": "code",
   "execution_count": 148,
   "id": "4deaae66",
   "metadata": {},
   "outputs": [
    {
     "data": {
      "text/plain": [
       "array([[-10. ,  -9.9,  -9.8, ...,   9.8,   9.9,  10. ],\n",
       "       [-10. ,  -9.9,  -9.8, ...,   9.8,   9.9,  10. ],\n",
       "       [-10. ,  -9.9,  -9.8, ...,   9.8,   9.9,  10. ],\n",
       "       ...,\n",
       "       [-10. ,  -9.9,  -9.8, ...,   9.8,   9.9,  10. ],\n",
       "       [-10. ,  -9.9,  -9.8, ...,   9.8,   9.9,  10. ],\n",
       "       [-10. ,  -9.9,  -9.8, ...,   9.8,   9.9,  10. ]])"
      ]
     },
     "execution_count": 148,
     "metadata": {},
     "output_type": "execute_result"
    }
   ],
   "source": [
    "x2"
   ]
  },
  {
   "cell_type": "code",
   "execution_count": 149,
   "id": "a620a063",
   "metadata": {},
   "outputs": [
    {
     "data": {
      "text/plain": [
       "array([[-10. , -10. , -10. , ..., -10. , -10. , -10. ],\n",
       "       [ -9.9,  -9.9,  -9.9, ...,  -9.9,  -9.9,  -9.9],\n",
       "       [ -9.8,  -9.8,  -9.8, ...,  -9.8,  -9.8,  -9.8],\n",
       "       ...,\n",
       "       [  9.8,   9.8,   9.8, ...,   9.8,   9.8,   9.8],\n",
       "       [  9.9,   9.9,   9.9, ...,   9.9,   9.9,   9.9],\n",
       "       [ 10. ,  10. ,  10. , ...,  10. ,  10. ,  10. ]])"
      ]
     },
     "execution_count": 149,
     "metadata": {},
     "output_type": "execute_result"
    }
   ],
   "source": [
    "y2"
   ]
  },
  {
   "cell_type": "code",
   "execution_count": 156,
   "id": "dc356f70",
   "metadata": {},
   "outputs": [],
   "source": [
    "z2 = x2 + y2**2"
   ]
  },
  {
   "cell_type": "code",
   "execution_count": 157,
   "id": "3beee4e9",
   "metadata": {},
   "outputs": [
    {
     "data": {
      "text/plain": [
       "array([[ 90.  ,  90.1 ,  90.2 , ..., 109.8 , 109.9 , 110.  ],\n",
       "       [ 88.01,  88.11,  88.21, ..., 107.81, 107.91, 108.01],\n",
       "       [ 86.04,  86.14,  86.24, ..., 105.84, 105.94, 106.04],\n",
       "       ...,\n",
       "       [ 86.04,  86.14,  86.24, ..., 105.84, 105.94, 106.04],\n",
       "       [ 88.01,  88.11,  88.21, ..., 107.81, 107.91, 108.01],\n",
       "       [ 90.  ,  90.1 ,  90.2 , ..., 109.8 , 109.9 , 110.  ]])"
      ]
     },
     "execution_count": 157,
     "metadata": {},
     "output_type": "execute_result"
    }
   ],
   "source": [
    "z2"
   ]
  },
  {
   "cell_type": "code",
   "execution_count": 158,
   "id": "a1259afe",
   "metadata": {},
   "outputs": [
    {
     "data": {
      "image/png": "[encoded data removed]",
      "text/plain": [
       "<Figure size 432x288 with 1 Axes>"
      ]
     },
     "metadata": {
      "needs_background": "light"
     },
     "output_type": "display_data"
    }
   ],
   "source": [
    "contourplot = plt.contour(x2,y2,z2)"
   ]
  },
  {
   "cell_type": "code",
   "execution_count": 159,
   "id": "7995d20e",
   "metadata": {},
   "outputs": [
    {
     "data": {
      "text/plain": [
       "<a list of 15 text.Text objects>"
      ]
     },
     "execution_count": 159,
     "metadata": {},
     "output_type": "execute_result"
    },
    {
     "data": {
      "image/png": "[encoded data removed]",
      "text/plain": [
       "<Figure size 432x288 with 1 Axes>"
      ]
     },
     "metadata": {
      "needs_background": "light"
     },
     "output_type": "display_data"
    }
   ],
   "source": [
    "plt.clabel(contourplot, inline=1, fontsize=10)"
   ]
  },
  {
   "cell_type": "code",
   "execution_count": 160,
   "id": "9613a024",
   "metadata": {},
   "outputs": [],
   "source": [
    "x3, y3 = np.meshgrid(np.linspace(-10,10,201), np.linspace(-10,10,201))\n",
    "z3 = np.cos(x3+y3) + 0.05*(x3-y3)"
   ]
  },
  {
   "cell_type": "code",
   "execution_count": 162,
   "id": "d4be404f",
   "metadata": {},
   "outputs": [
    {
     "data": {
      "text/plain": [
       "<matplotlib.colorbar.Colorbar at 0x1c4df4d1f10>"
      ]
     },
     "execution_count": 162,
     "metadata": {},
     "output_type": "execute_result"
    },
    {
     "data": {
      "image/png": "[encoded data removed]",
      "text/plain": [
       "<Figure size 432x288 with 2 Axes>"
      ]
     },
     "metadata": {
      "needs_background": "light"
     },
     "output_type": "display_data"
    }
   ],
   "source": [
    "plt.contourf(x3,y3,z3)\n",
    "plt.colorbar()"
   ]
  },
  {
   "cell_type": "markdown",
   "id": "2e9fe725",
   "metadata": {},
   "source": [
    "# 3D Plots"
   ]
  },
  {
   "cell_type": "code",
   "execution_count": 166,
   "id": "f09ed7a7",
   "metadata": {},
   "outputs": [
    {
     "data": {
      "text/plain": [
       "<matplotlib.contour.QuadContourSet at 0x1c4e2492ca0>"
      ]
     },
     "execution_count": 166,
     "metadata": {},
     "output_type": "execute_result"
    },
    {
     "data": {
      "image/png": "[encoded data removed]",
      "text/plain": [
       "<Figure size 432x288 with 1 Axes>"
      ]
     },
     "metadata": {
      "needs_background": "light"
     },
     "output_type": "display_data"
    }
   ],
   "source": [
    "plotproj = plt.axes(projection = '3d')\n",
    "plotproj.view_init(60,30)\n",
    "plotproj.contour3D(x3,y3,z3,50) # 50 here is the quality number"
   ]
  },
  {
   "cell_type": "code",
   "execution_count": 171,
   "id": "54e9a3ab",
   "metadata": {},
   "outputs": [
    {
     "data": {
      "text/plain": [
       "[<mpl_toolkits.mplot3d.art3d.Line3D at 0x1c4e30eee80>]"
      ]
     },
     "execution_count": 171,
     "metadata": {},
     "output_type": "execute_result"
    },
    {
     "data": {
      "image/png": "[encoded data removed]",
      "text/plain": [
       "<Figure size 432x288 with 1 Axes>"
      ]
     },
     "metadata": {
      "needs_background": "light"
     },
     "output_type": "display_data"
    }
   ],
   "source": [
    "plt3d = plt.axes(projection = '3d')\n",
    "z1 = np.linspace(0,30,301)\n",
    "x1 = np.sin(z1)\n",
    "y1 = np.cos(z1)\n",
    "plt.xlim([-2,2])\n",
    "plt.ylim([-2,2])\n",
    "plt3d.plot3D(x1,y1,z1)"
   ]
  },
  {
   "cell_type": "code",
   "execution_count": 172,
   "id": "758a0b35",
   "metadata": {},
   "outputs": [
    {
     "data": {
      "text/plain": [
       "<mpl_toolkits.mplot3d.art3d.Path3DCollection at 0x1c4e31735b0>"
      ]
     },
     "execution_count": 172,
     "metadata": {},
     "output_type": "execute_result"
    },
    {
     "data": {
      "image/png": "[encoded data removed]",
      "text/plain": [
       "<Figure size 432x288 with 1 Axes>"
      ]
     },
     "metadata": {
      "needs_background": "light"
     },
     "output_type": "display_data"
    }
   ],
   "source": [
    "plt3d = plt.axes(projection = '3d')\n",
    "z1 = np.linspace(0,30,301)\n",
    "x1 = np.sin(z1)\n",
    "y1 = np.cos(z1)\n",
    "plt.xlim([-2,2])\n",
    "plt.ylim([-2,2])\n",
    "plt3d.scatter3D(x1,y1,z1)"
   ]
  },
  {
   "cell_type": "code",
   "execution_count": null,
   "id": "0039af7d",
   "metadata": {},
   "outputs": [],
   "source": []
  }
 ],
 "metadata": {
  "kernelspec": {
   "display_name": "Python 3 (ipykernel)",
   "language": "python",
   "name": "python3"
  },
  "language_info": {
   "codemirror_mode": {
    "name": "ipython",
    "version": 3
   },
   "file_extension": ".py",
   "mimetype": "text/x-python",
   "name": "python",
   "nbconvert_exporter": "python",
   "pygments_lexer": "ipython3",
   "version": "3.9.7"
  }
 },
 "nbformat": 4,
 "nbformat_minor": 5
}
